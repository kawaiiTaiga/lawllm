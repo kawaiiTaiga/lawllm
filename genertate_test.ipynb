{
 "cells": [
  {
   "cell_type": "code",
   "execution_count": 1,
   "metadata": {},
   "outputs": [
    {
     "name": "stderr",
     "output_type": "stream",
     "text": [
      "Special tokens have been added in the vocabulary, make sure the associated word embeddings are fine-tuned or trained.\n"
     ]
    },
    {
     "data": {
      "application/vnd.jupyter.widget-view+json": {
       "model_id": "bc78d08f13d84037854f1c9e39d60d82",
       "version_major": 2,
       "version_minor": 0
      },
      "text/plain": [
       "Loading checkpoint shards:   0%|          | 0/4 [00:00<?, ?it/s]"
      ]
     },
     "metadata": {},
     "output_type": "display_data"
    }
   ],
   "source": [
    "import torch\n",
    "from transformers import AutoTokenizer, AutoModelForCausalLM\n",
    "import numpy as np\n",
    "import random\n",
    "import time\n",
    "\n",
    "# Load the model with gpu\n",
    "model_id = \"MLP-KTLim/llama-3-Korean-Bllossom-8B\"\n",
    "tokenizer = AutoTokenizer.from_pretrained(model_id)\n",
    "model = AutoModelForCausalLM.from_pretrained(model_id).cuda()\n"
   ]
  },
  {
   "cell_type": "code",
   "execution_count": 2,
   "metadata": {},
   "outputs": [],
   "source": [
    "text_data = \"\"\"전북 남원시가 음주 측정을 거부해 현장에서 체포된 6급 공무원을 사무관으로 승진시켜 논란이 일고 있다. 공무원 노조는 \"역대급 인사 참사\"라고 비판했다.\n",
    "\n",
    "16일 남원시에 따르면 지난 12일 발표한 시 정기 인사에서 도로교통법상 음주 측정 거부 혐의로 불구속 입건된 A씨가 5급 승진 대상자에 포함됐다. A씨는 같은 날 시청 과장급 자리에 임명됐다.\n",
    "\n",
    "전북경찰청 고속도로순찰대 등에 따르면 A씨는 지난달 31일 오전 1시쯤 고속도로에서 음주 측정 요구를 3차례 거부해 현행범으로 체포됐다. A씨는 사건 당일 남원 시내에서 회식을 한 뒤 본인 차를 몰고 20㎞가량 달리다 광주~대구고속도로 하행선 38.8㎞ 지점 갓길에 세운 채 잠을 잤던 것으로 조사됐다.\n",
    "\n",
    "신고를 받고 출동한 경찰이 술 냄새를 맡고 음주 측정을 하려 했으나 A씨는 끝까지 응하지 않았다고 한다. 경찰은 당시 A씨 차 타이어에 펑크가 난 점 등으로 미뤄 음주운전 중 사고까지 낸 게 아닌지 의심하고 조사 중이다.\n",
    "\"\"\"\n"
   ]
  },
  {
   "cell_type": "code",
   "execution_count": 3,
   "metadata": {},
   "outputs": [
    {
     "name": "stderr",
     "output_type": "stream",
     "text": [
      "Using unk_token, but it is not set yet.\n",
      "Using sep_token, but it is not set yet.\n",
      "Using cls_token, but it is not set yet.\n",
      "Using mask_token, but it is not set yet.\n",
      "The attention mask and the pad token id were not set. As a consequence, you may observe unexpected behavior. Please pass your input's `attention_mask` to obtain reliable results.\n",
      "Setting `pad_token_id` to `eos_token_id`:128009 for open-end generation.\n",
      "A decoder-only architecture is being used, but right-padding was detected! For correct generation results, please set `padding_side='left'` when initializing the tokenizer.\n"
     ]
    },
    {
     "name": "stdout",
     "output_type": "stream",
     "text": [
      "dd\n"
     ]
    }
   ],
   "source": [
    "from generate import *\n",
    "\n",
    "law_issue = Avaliable_Law_Issue(model,tokenizer,text_data)"
   ]
  },
  {
   "cell_type": "code",
   "execution_count": 4,
   "metadata": {},
   "outputs": [
    {
     "data": {
      "text/plain": [
       "{'potential_legal_issues': [{'issue_type': '부적절한 인사 결정',\n",
       "   'issue_part': '남원시가 음주 측정 거부 혐의로 불구속 입건된 공무원 A씨를 사무관으로 승진시킨 결정',\n",
       "   'description': '공무원 인사 결정은 공무원법과 관련된 엄격한 절차와 기준에 따라 이루어져야 하며, 부적절한 인사 결정은 공무원법의 규정을 위반할 수 있습니다.'},\n",
       "  {'issue_type': '법정위반',\n",
       "   'issue_part': 'A씨가 음주 측정 요구를 3차례 거부한 사실',\n",
       "   'description': '도로교통법상 음주 측정 거부는 법정형을 초과할 수 있는 중대한 법정위반 행위로, 이를 무마하는 인사 결정은 법적 문제가 될 수 있습니다.'},\n",
       "  {'issue_type': '공무원 직무 수행 방해',\n",
       "   'issue_part': 'A씨가 경찰의 음주 측정 요구를 거부한 사실',\n",
       "   'description': '공무원은 공공의 신뢰와 신뢰를 유지해야 하는 직업을 가지고 있으며, 직무 수행 방해 행위는 공무원법에 의해 처벌될 수 있습니다.'},\n",
       "  {'issue_type': '공무원 윤리 위반',\n",
       "   'issue_part': 'A씨가 음주 운전 후 공무원으로서의 직무를 수행한 사실',\n",
       "   'description': '공무원은 공무원법과 공무원윤리법에 따라 직무 수행 시 공무원로서의 품위와 신분을 유지해야 하며, 음주 운전 후 직무를 수행한 것은 공무원 윤리 위반으로 볼 수 있습니다.'},\n",
       "  {'issue_type': '공공기밀 유출',\n",
       "   'issue_part': '남원시가 공무원 인사 결정과 관련된 정보를 공개한 사실',\n",
       "   'description': '공공기밀은 공직기밀유공법에 따라 보호되어야 하며, 이를 유출하거나 누설한 경우 법적 처벌을 받을 수 있습니다.'}]}"
      ]
     },
     "execution_count": 4,
     "metadata": {},
     "output_type": "execute_result"
    }
   ],
   "source": [
    "law_issue"
   ]
  },
  {
   "cell_type": "code",
   "execution_count": null,
   "metadata": {},
   "outputs": [],
   "source": [
    "def Generate_key_word(model,tokenizer,number, message):\n",
    "    \n",
    "    keyword_inst =  f'{number}번 케이스에 대한 법에 관련된 내용을 한국법령시스템에 검색하려고 합니다. 어떤 키워드로 검색해야할까요? 가장 좋은 하나만 알려주십시오. 출력결과를 자동적으로 추출해야하기 때문에, 결과를 대괄호로 감싸주세요. '\n",
    "    messages = [\n",
    "    {\"role\": \"system\", \"content\": f\"{PROMPT}\"},\n",
    "    {\"role\": \"user\", \"content\": f\"{instruction1}\"},\n",
    "    {\"role\" : \"assistant\", \"content\" :f\"{generated_text}\"},\n",
    "    {\"role\": \"user\", \"content\": f\"{ins2}\"}\n",
    "    ]"
   ]
  },
  {
   "cell_type": "code",
   "execution_count": null,
   "metadata": {},
   "outputs": [],
   "source": [
    "ins2 = '3번 케이스에 대한 법에 관련된 내용을 한국법령시스템에 검색하려고 합니다. 어떤 키워드로 검색해야할까요? 가장 좋은 하나만 알려주십시오. 출력결과를 자동적으로 추출해야하기 때문에, 결과를 대괄호로 감싸주세요. '\n",
    "\n",
    "messages = [\n",
    "    {\"role\": \"system\", \"content\": f\"{PROMPT}\"},\n",
    "    {\"role\": \"user\", \"content\": f\"{instruction}\"},\n",
    "    {\"role\" : \"assistant\", \"content\" :f\"{generated_text}\"},\n",
    "    {\"role\": \"user\", \"content\": f\"{ins2}\"}\n",
    "    ]\n",
    "\n",
    "\n",
    "prompt = tokenizer.apply_chat_template(\n",
    "        messages, \n",
    "        tokenize=False, \n",
    "        add_generation_prompt=True\n",
    ")\n",
    "\n",
    "input_ids = tokenizer.encode(prompt, return_tensors='pt').cuda()\n",
    "generate_kwargs = {\n",
    "    \"max_new_tokens\": 1000,\n",
    "    \"do_sample\": True,\n",
    "    \"temperature\": 0.7,\n",
    "    \"top_p\": 0.95,\n",
    "    \"eos_token_id\": tokenizer.eos_token_id,\n",
    "}\n",
    "\n",
    "# 텍스트 생성\n",
    "output_ids = model.generate(input_ids, **generate_kwargs)\n",
    "generated_text2 = tokenizer.decode(output_ids[0][len(input_ids[0]):], skip_special_tokens=True)\n",
    "\n",
    "print(generated_text2)"
   ]
  },
  {
   "cell_type": "code",
   "execution_count": 6,
   "metadata": {},
   "outputs": [
    {
     "ename": "NameError",
     "evalue": "name 'Prompt' is not defined",
     "output_type": "error",
     "traceback": [
      "\u001b[0;31m---------------------------------------------------------------------------\u001b[0m",
      "\u001b[0;31mNameError\u001b[0m                                 Traceback (most recent call last)",
      "Cell \u001b[0;32mIn[6], line 1\u001b[0m\n\u001b[0;32m----> 1\u001b[0m \u001b[38;5;28mprint\u001b[39m(Prompt)\n",
      "\u001b[0;31mNameError\u001b[0m: name 'Prompt' is not defined"
     ]
    }
   ],
   "source": [
    "print(Prompt)"
   ]
  },
  {
   "cell_type": "code",
   "execution_count": null,
   "metadata": {},
   "outputs": [],
   "source": []
  }
 ],
 "metadata": {
  "kernelspec": {
   "display_name": "kkm",
   "language": "python",
   "name": "python3"
  },
  "language_info": {
   "codemirror_mode": {
    "name": "ipython",
    "version": 3
   },
   "file_extension": ".py",
   "mimetype": "text/x-python",
   "name": "python",
   "nbconvert_exporter": "python",
   "pygments_lexer": "ipython3",
   "version": "3.11.4"
  }
 },
 "nbformat": 4,
 "nbformat_minor": 2
}
